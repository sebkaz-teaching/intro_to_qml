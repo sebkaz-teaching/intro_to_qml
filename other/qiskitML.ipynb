{
 "cells": [
  {
   "cell_type": "markdown",
   "metadata": {},
   "source": [
    "## Qiskit Machine Learning\n",
    "\n",
    "[dokumentacja](https://qiskit.org/ecosystem/machine-learning/index.html)\n",
    "\n",
    "- Quantum Kernels (Quantum Support Vector Classifier, Quantum Support Vector Regressor)\n",
    "- Quantum Neural Networks (Variational Quantum Classifier, Variational Quantum Regressor), fature map (ZZFeatureMap, ZFeatureMap, PauliFeatureMap) i ansatz (RealAmplitudes, EfficientSU2, ZZFeatureMap, ZFeatureMap, PauliFeatureMap). Posiada również konektor do PyTorcha. \n",
    "\n",
    "używane do klasyfikacji (QSVC) i regresjii (QSVR). Pozwalają na używanie kwantowego uczenia maszynowego bez wiedzy o obliczeniach kwantowych. \n"
   ]
  },
  {
   "cell_type": "code",
   "execution_count": null,
   "metadata": {},
   "outputs": [],
   "source": [
    "# instalacja \n",
    "!pip install --upgrade pip\n",
    "!pip install qiskit-machine-learning\n",
    "!pip install 'qiskit-machine-learning[torch]'\n",
    "!pip install 'qiskit-machine-learning[sparse]' \n",
    "# !pip install ipywidgets ipykernel"
   ]
  },
  {
   "cell_type": "code",
   "execution_count": 3,
   "metadata": {},
   "outputs": [
    {
     "data": {
      "text/html": [
       "<h3>Version Information</h3><table><tr><th>Software</th><th>Version</th></tr><tr><td><code>qiskit</code></td><td>None</td></tr><tr><td><code>qiskit-terra</code></td><td>0.25.2</td></tr><tr><th colspan='2'>System information</th></tr><tr><td>Python version</td><td>3.10.12</td></tr><tr><td>Python compiler</td><td>Clang 14.0.3 (clang-1403.0.22.14.1)</td></tr><tr><td>Python build</td><td>main, Jul 28 2023 18:34:01</td></tr><tr><td>OS</td><td>Darwin</td></tr><tr><td>CPUs</td><td>8</td></tr><tr><td>Memory (Gb)</td><td>16.0</td></tr><tr><td colspan='2'>Sun Oct 15 20:37:42 2023 CEST</td></tr></table>"
      ],
      "text/plain": [
       "<IPython.core.display.HTML object>"
      ]
     },
     "metadata": {},
     "output_type": "display_data"
    }
   ],
   "source": [
    "import qiskit.tools.jupyter\n",
    "\n",
    "%qiskit_version_table"
   ]
  },
  {
   "cell_type": "code",
   "execution_count": null,
   "metadata": {},
   "outputs": [],
   "source": []
  }
 ],
 "metadata": {
  "kernelspec": {
   "display_name": "venv",
   "language": "python",
   "name": "python3"
  },
  "language_info": {
   "codemirror_mode": {
    "name": "ipython",
    "version": 3
   },
   "file_extension": ".py",
   "mimetype": "text/x-python",
   "name": "python",
   "nbconvert_exporter": "python",
   "pygments_lexer": "ipython3",
   "version": "3.10.12"
  },
  "orig_nbformat": 4
 },
 "nbformat": 4,
 "nbformat_minor": 2
}

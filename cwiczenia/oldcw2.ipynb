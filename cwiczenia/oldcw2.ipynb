{
 "cells": [
  {
   "cell_type": "markdown",
   "metadata": {},
   "source": []
  },
  {
   "cell_type": "markdown",
   "metadata": {},
   "source": [
    "`Ancila qubit` - dodatkowy kubit, który jest używany do przechowywania informacji tymczasowej. Jest to kubit, który nie jest używany do przechowywania informacji o wyniku obliczeń. \n",
    "\n",
    "\n",
    "\n",
    "`Measurements` - służą do pomiaru stanu kubitów. W Qiskit, pomiary są zawsze wykonywane na końcu obwodu. Wyniki pomiarów są zwracane w postaci klasycznych bitów.\n",
    "\n",
    "Tutaj dodac obrazek z wyjasnieniem co to achila qubit.\n",
    "Data qubits (nie zmieniaja się w trakcie wykonywania obwodu)+ target qubit (realizuje dodawanie modulo 2 do data qubit) - XOR bramka. \n",
    "\n",
    "Reprezentacja bramek klasyczych w odwracalny sposób. Nickiel tutorial 2. "
   ]
  },
  {
   "cell_type": "markdown",
   "metadata": {},
   "source": [
    "## Create logical gates with the help of quantum gates\n",
    "\n",
    "### NOT gate\n",
    "\n",
    "The NOT gate flips the value of a bit and, as was mentioned before, an X gate can be considered a NOT gate. The truth table for a NOT gate looks like this:\n",
    "\n",
    "| Input | Output |\n",
    "| --- | --- | \n",
    "| 1 | 0 |\n",
    "| 0 | 1 |"
   ]
  },
  {
   "cell_type": "code",
   "execution_count": null,
   "metadata": {},
   "outputs": [],
   "source": [
    "not_gate=QuantumCircuit(1,1) # Create a quantum circuit with 1 qubit and 1 classical bit\n",
    "not_gate.x(0)\n",
    "not_gate.measure(0,0)\n",
    "not_gate.draw(output='mpl')"
   ]
  },
  {
   "cell_type": "markdown",
   "metadata": {},
   "source": [
    "### AND gate\n",
    "\n",
    "The output of an AND is true if and only if both inputs are true. The truth table for an AND Gate looks like this:\n",
    "\n",
    "| A (Input) | B (Input) | Output |\n",
    "| --- | --- | --- |\n",
    "| 0 | 0 | 0 | \n",
    "| 0 | 1 | 0 |\n",
    "| 1 | 0 | 0 |\n",
    "| 1 | 1 | 1 |\n",
    "\n",
    "With a Toffoli gate, we can get the result of an AND gate by interpreting the two control bits as the input bits and the target bit as the output bit."
   ]
  },
  {
   "cell_type": "code",
   "execution_count": null,
   "metadata": {},
   "outputs": [],
   "source": [
    "and_gate=QuantumCircuit(3,1) # Create a quantum circuit with 3 qubits and 1 classical bit\n",
    "and_gate.ccx(0,1,2)\n",
    "and_gate.measure(2,0)\n",
    "and_gate.draw(output='mpl')"
   ]
  },
  {
   "cell_type": "markdown",
   "metadata": {},
   "source": [
    "### OR gate\n",
    "\n",
    "An OR gate returns true if at least one of the input gates is true.\n",
    "The truth table for an OR Gate looks like this:\n",
    "\n",
    "| A (Input) | B (Input) | Output |\n",
    "| --- | --- | --- |\n",
    "| 0 | 0 | 0 | \n",
    "| 0 | 1 | 1 |\n",
    "| 1 | 0 | 1 |\n",
    "| 1 | 1 | 1 |"
   ]
  },
  {
   "cell_type": "code",
   "execution_count": null,
   "metadata": {},
   "outputs": [],
   "source": [
    "or_gate=QuantumCircuit(3,1) # Create a quantum circuit with 3 qubits and 1 classical bit\n",
    "or_gate.cx(1,2)\n",
    "or_gate.cx(0,2)\n",
    "or_gate.ccx(0,1,2)\n",
    "or_gate.measure(2,0)\n",
    "or_gate.draw(output='mpl')"
   ]
  },
  {
   "cell_type": "markdown",
   "metadata": {},
   "source": [
    "### CCX gate (Toffoli gate)\n",
    "\n",
    "The CCX gate (controlled controlled X Gate) is also called a Toffoli gate. The CCX gate is a three-bit gate, with two controls and one target as their input and output. If the first two bits are in the state $|1\\rangle$, it applies a Pauli-X (or NOT) on the third bit. Otherwise, it does nothing. \n",
    "\n",
    "Note: Qiskit numbers the bits in a string from right to left.\n",
    "\n",
    "$CCX = \\begin{pmatrix}\n",
    "1 & 0 & 0 & 0 & 0 & 0 & 0 & 0 \\\\\n",
    "0 & 1 & 0 & 0 & 0 & 0 & 0 & 0 \\\\\n",
    "0 & 0 & 1 & 0 & 0 & 0 & 0 & 0 \\\\\n",
    "0 & 0 & 0 & 1 & 0 & 0 & 0 & 0 \\\\\n",
    "0 & 0 & 0 & 0 & 1 & 0 & 0 & 0 \\\\\n",
    "0 & 0 & 0 & 0 & 0 & 1 & 0 & 0 \\\\\n",
    "0 & 0 & 0 & 0 & 0 & 0 & 0 & 1 \\\\\n",
    "0 & 0 & 0 & 0 & 0 & 0 & 1 & 0 \\\\\n",
    "\\end{pmatrix}$"
   ]
  },
  {
   "cell_type": "code",
   "execution_count": null,
   "metadata": {},
   "outputs": [],
   "source": [
    "ccx_gate = QuantumCircuit(3)\n",
    "ccx_gate.ccx(0,1,2)\n",
    "ccx_gate.draw(output='mpl')"
   ]
  }
 ],
 "metadata": {
  "kernelspec": {
   "display_name": "Python 3 (ipykernel)",
   "language": "python",
   "name": "python3"
  },
  "language_info": {
   "codemirror_mode": {
    "name": "ipython",
    "version": 3
   },
   "file_extension": ".py",
   "mimetype": "text/x-python",
   "name": "python",
   "nbconvert_exporter": "python",
   "pygments_lexer": "ipython3",
   "version": "3.10.12"
  }
 },
 "nbformat": 4,
 "nbformat_minor": 4
}

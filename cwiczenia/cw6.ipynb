{
 "cells": [
  {
   "cell_type": "markdown",
   "metadata": {},
   "source": [
    "# Kodowanie danych\n",
    "\n",
    "Tak jak pokazywaliśmy w części wykładowej, będziemy zainsteresowanie przetwarzaniem klasycznych danych \n",
    "za pomocą kwantowych układów. \n",
    "\n",
    "Rozwazmy klasyczny zbiór danych $X$ realizujący $N$ zmiennych i składający się z $M$ wierszy.\n",
    "$$\n",
    "X = \\{ x^1, \\dots, x^m,\\dots x^M \\}\n",
    "$$\n",
    "\n",
    "Chcemy przetworzyć otrzymane dane tak, by mozna je wykorzystać do obliczeń kwantowych. \n",
    "Procedury, które pokazemy mozna traktować jako penwego rodzaju embedding.\n",
    "\n",
    "## Basis encoding \n",
    "\n"
   ]
  },
  {
   "cell_type": "code",
   "execution_count": null,
   "metadata": {
    "vscode": {
     "languageId": "plaintext"
    }
   },
   "outputs": [],
   "source": []
  }
 ],
 "metadata": {
  "language_info": {
   "name": "python"
  }
 },
 "nbformat": 4,
 "nbformat_minor": 2
}

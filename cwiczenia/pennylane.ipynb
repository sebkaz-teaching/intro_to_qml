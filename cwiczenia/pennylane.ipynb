{
 "cells": [
  {
   "cell_type": "markdown",
   "metadata": {},
   "source": [
    "# Pennylane\n",
    "\n",
    "[Codebook](https://codebook.xanadu.ai/T.1)\n",
    "\n",
    "[PennyLane Challenges](https://pennylane.ai/challenges)"
   ]
  }
 ],
 "metadata": {
  "language_info": {
   "name": "python"
  },
  "orig_nbformat": 4
 },
 "nbformat": 4,
 "nbformat_minor": 2
}

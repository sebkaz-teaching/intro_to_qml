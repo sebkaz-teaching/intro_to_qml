{
 "cells": [
  {
   "cell_type": "code",
   "execution_count": null,
   "metadata": {},
   "outputs": [],
   "source": [
    "from qiskit import QuantumCircuit, execute, Aer, QuantumRegister, ClassicalRegister\n",
    "from qiskit.visualization import plot_histogram, plot_bloch_multivector"
   ]
  },
  {
   "cell_type": "code",
   "execution_count": null,
   "metadata": {},
   "outputs": [],
   "source": []
  },
  {
   "cell_type": "markdown",
   "metadata": {},
   "source": [
    "## Parameterized Quantum Circuit\n",
    "\n",
    "na podstawie https://learn.qiskit.org/course/machine-learning/parameterized-quantum-circuits"
   ]
  },
  {
   "cell_type": "code",
   "execution_count": null,
   "metadata": {},
   "outputs": [],
   "source": [
    "from qiskit.circuit import QuantumCircuit, Parameter\n",
    "theta = Parameter('θ')\n",
    "\n",
    "qc = QuantumCircuit(2)\n",
    "qc.rz(theta, 0)\n",
    "qc.crz(theta, 0, 1)\n",
    "qc.draw()"
   ]
  },
  {
   "cell_type": "code",
   "execution_count": null,
   "metadata": {},
   "outputs": [],
   "source": [
    "from qiskit.circuit import ParameterVector\n",
    "theta_list = ParameterVector('θ', length=2)\n",
    "\n",
    "qc = QuantumCircuit(2)\n",
    "qc.rz(theta_list[0], 0)\n",
    "qc.crz(theta_list[1], 0, 1)\n",
    "qc.draw()"
   ]
  },
  {
   "cell_type": "code",
   "execution_count": null,
   "metadata": {},
   "outputs": [],
   "source": [
    "import numpy as np\n",
    "import matplotlib.pyplot as plt\n",
    "\n",
    "# First, we need to define the circuits:\n",
    "theta_param = Parameter('θ')\n",
    "phi_param = Parameter('Φ')\n",
    "\n",
    "# Circuit A\n",
    "qc_A = QuantumCircuit(1)\n",
    "qc_A.h(0)\n",
    "qc_A.rz(theta_param, 0)\n",
    "\n",
    "# Circuit B\n",
    "qc_B = QuantumCircuit(1)\n",
    "qc_B.h(0)\n",
    "qc_B.rz(theta_param, 0)\n",
    "qc_B.rx(phi_param, 0)\n",
    "\n",
    "# Next we uniformly sample the parameter space for the two parameters theta and phi\n",
    "np.random.seed(0)\n",
    "num_param = 1000\n",
    "theta = [2*np.pi*np.random.uniform() for i in range(num_param)]\n",
    "phi = [2*np.pi*np.random.uniform() for i in range(num_param)]\n",
    "\n",
    "# Then we take the parameter value lists, build the state vectors corresponding\n",
    "# to each circuit, and plot them on the Bloch sphere:\n",
    "from qiskit.visualization.bloch import Bloch\n",
    "from qiskit.quantum_info import Statevector\n",
    "\n",
    "def state_to_bloch(state_vec):\n",
    "    # Converts state vectors to points on the Bloch sphere\n",
    "    phi = np.angle(state_vec.data[1])-np.angle(state_vec.data[0])\n",
    "    theta = 2*np.arccos(np.abs(state_vec.data[0]))\n",
    "    return [np.sin(theta)*np.cos(phi),np.sin(theta)*np.sin(phi),np.cos(theta)]\n",
    "\n",
    "# Bloch sphere plot formatting\n",
    "width, height = plt.figaspect(1/2)\n",
    "fig=plt.figure(figsize=(width, height))\n",
    "ax1, ax2 = fig.add_subplot(1, 2, 1, projection='3d'), fig.add_subplot(1, 2, 2, projection='3d')\n",
    "b1,b2 = Bloch(axes=ax1), Bloch(axes=ax2)\n",
    "b1.point_color, b2.point_color = ['tab:blue'],['tab:blue']\n",
    "b1.point_marker, b2.point_marker= ['o'],['o']\n",
    "b1.point_size, b2.point_size=[2],[2]\n",
    "\n",
    "# Calculate state vectors for circuit A and circuit B for each set of sampled parameters\n",
    "# and add to their respective Bloch sphere\n",
    "for i in range(num_param):    \n",
    "    state_1=Statevector.from_instruction(qc_A.bind_parameters({theta_param:theta[i]}))\n",
    "    state_2=Statevector.from_instruction(qc_B.bind_parameters({theta_param:theta[i], phi_param:phi[i]}))\n",
    "    b1.add_points(state_to_bloch(state_1))\n",
    "    b2.add_points(state_to_bloch(state_2))\n",
    "\n",
    "b1.show()\n",
    "b2.show()"
   ]
  },
  {
   "cell_type": "code",
   "execution_count": null,
   "metadata": {},
   "outputs": [],
   "source": [
    "# Deutch-Jozsa algorithm\n"
   ]
  }
 ],
 "metadata": {
  "language_info": {
   "name": "python"
  }
 },
 "nbformat": 4,
 "nbformat_minor": 2
}

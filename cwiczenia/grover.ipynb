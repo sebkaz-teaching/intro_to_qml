{
 "cells": [
  {
   "cell_type": "markdown",
   "metadata": {},
   "source": [
    "## Klasyfikacja z wykorzystaniem Algorytmu Grovera"
   ]
  },
  {
   "cell_type": "code",
   "execution_count": null,
   "metadata": {},
   "outputs": [],
   "source": [
    "# dane testowe\n",
    "\n",
    "def generate_data():\n",
    "    data = {'A': [(0.2, 0.5), (0.1, 0.4), (0.4, 0.8)],\n",
    "            'B': [(0.7, 0.2), (0.6, 0.3), (0.8, 0.1)]}\n",
    "    return data"
   ]
  },
  {
   "cell_type": "code",
   "execution_count": null,
   "metadata": {},
   "outputs": [],
   "source": [
    "generate_data()"
   ]
  },
  {
   "cell_type": "code",
   "execution_count": null,
   "metadata": {},
   "outputs": [],
   "source": [
    "from qiskit import QuantumCircuit, assemble, transpile\n",
    "from qiskit.visualization import plot_histogram\n",
    "\n",
    "# Tworzenie obwodu kwantowego dla algorytmu Grovera\n",
    "def grover_circuit():\n",
    "\n",
    "    qc = QuantumCircuit(2, 2)\n",
    "\n",
    "    # Inicjalizacja superpozycji równomiernej\n",
    "    qc.h([0, 1])\n",
    "    qc.barrier()\n",
    "    # Faza odwracająca dla klasyfikacji\n",
    "    qc.cz(0, 1)\n",
    "\n",
    "    # Inwersja przez odbicie średniej\n",
    "    qc.h([0, 1])\n",
    "    qc.z([0, 1])\n",
    "    qc.cz(0, 1)\n",
    "    qc.h([0, 1])\n",
    "\n",
    "    return qc"
   ]
  },
  {
   "cell_type": "markdown",
   "metadata": {},
   "source": [
    "W algorytmie Grovera chodzi o przyspieszenie wyszukiwania w niesortowanym zbiorze danych przy użyciu kwantowego mechanizmu wzmacniania amplitud. W kontekście klasyfikacji, można użyć algorytmu Grovera do znalezienia punktu w przestrzeni danych, który spełnia określone warunki, co pozwoli na przypisanie go do jednej z klas.\n",
    "\n",
    "W przykładzie klasyfikacji z algorytmem Grovera:\n",
    "\n",
    "1. **Inicjalizacja superpozycji**: Pierwszy krok to stworzenie superpozycji stanów kwantowych, co jest osiągane przez zastosowanie bramki Hadamarda (`qc.h()`) do wszystkich kubitów.\n",
    "2. **Faza odwracająca**: Następnie używamy bramki fazowej (w tym przypadku bramki `cz`) do odwrócenia fazy amplitudy stanu reprezentującego poprawne odpowiedzi.\n",
    "3. **Inwersja przez odbicie średniej**: Kolejnym krokiem jest inwersja amplitudy stanu, co jest osiągane przez zastosowanie bramek Hadamarda, bramek fazowych i bramek `cz`.\n",
    "4. **Pomiar wyników**: Na końcu dokonujemy pomiaru wszystkich kubitów, co skutkuje otrzymaniem pewnego wyniku, który odpowiada jednemu z możliwych stanów kubitów.\n",
    "\n",
    "W kontekście klasyfikacji, możemy użyć informacji z wyników pomiarów, aby przyporządkować punkt danych do jednej z klas. Na przykład, w tym przypadku, gdy wynik to '00', punkt jest przypisany do klasy `A`, a w przeciwnym razie do klasy `B`.\n",
    "\n",
    "W implementacji, funkcja `grover_circuit` tworzy kwantowy obwód realizujący opisane kroki algorytmu Grovera. W funkcji `classify_data`, dla każdego punktu danych z danego zbioru, jest on wprowadzany do obwodu kwantowego, a wyniki pomiaru są analizowane w celu przypisania punktu do odpowiedniej klasy.\n",
    "\n",
    "Warto zauważyć, że implementacja jest w pełni symulacyjna, a prawdziwe korzyści z algorytmu Grovera można uzyskać na prawdziwym komputerze kwantowym, zwłaszcza w przypadku większych zbiorów danych."
   ]
  },
  {
   "cell_type": "code",
   "execution_count": null,
   "metadata": {},
   "outputs": [],
   "source": [
    "# Klasyfikacja danych przy użyciu algorytmu Grovera\n",
    "def classify_data(data, quantum_circuit):\n",
    "    classified_points = {'A': [], 'B': []}\n",
    "\n",
    "    for category, points in data.items():\n",
    "        print(points)\n",
    "        for point in points:\n",
    "            print(f\"wyniki dla point:  {point}\")\n",
    "            # Przygotowanie obwodu kwantowego dla każdego punktu danych\n",
    "            qc = QuantumCircuit(2, 2)\n",
    "\n",
    "            # Wprowadzenie danych do obwodu\n",
    "            for idx, coord in enumerate(point):\n",
    "                theta = 2 * coord * 3.14159\n",
    "                print(f\"theta: {theta} dla coord: {coord}\")\n",
    "                qc.u(theta, 0, 0, idx)\n",
    "                \n",
    "            qc.compose(grover_circuit(), qubits=[0, 1], inplace=True)\n",
    "            # Pomiar wyników\n",
    "            qc.measure([0, 1], [0, 1])\n",
    "            display(qc.draw('mpl'))\n",
    "            # Symulacja obwodu\n",
    "            backend = Aer.get_backend('qasm_simulator')\n",
    "            result = backend.run(qc, shots=1000).result()\n",
    "            counts = result.get_counts(qc)\n",
    "   \n",
    "            # Klasyfikacja wyniku\n",
    "            most_frequent_result = max(counts, key=counts.get)\n",
    "            if most_frequent_result == '00':\n",
    "                classified_points[category].append(point)\n",
    "            else:\n",
    "                classified_points[category].append(point)\n",
    "\n",
    "\n",
    "    return classified_points"
   ]
  },
  {
   "cell_type": "code",
   "execution_count": null,
   "metadata": {},
   "outputs": [],
   "source": [
    "data = generate_data()\n",
    "classified_points = classify_data(data, grover_circuit)"
   ]
  }
 ],
 "metadata": {
  "language_info": {
   "name": "python"
  }
 },
 "nbformat": 4,
 "nbformat_minor": 2
}

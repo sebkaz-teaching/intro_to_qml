{
 "cells": [
  {
   "cell_type": "markdown",
   "metadata": {},
   "source": [
    "## Bramki jednokubitowe"
   ]
  },
  {
   "cell_type": "markdown",
   "metadata": {},
   "source": [
    "### Bramka X\n",
    "\n",
    "Bramka X-gate reprezentowana jest przez macierz Pauli-X : \n",
    "\n",
    "$$\n",
    "X = \\begin{pmatrix}\n",
    "0 & 1 \\\\\n",
    "1 & 0 \\\\\n",
    "\\end{pmatrix}\n",
    "$$\n",
    "\n",
    "\n",
    "Bramka X obraca kubit w kierunku osi na sferze Bloch'a o $\\pi$ radianów.\n",
    "Zmienia $|0\\rangle$ na $|1\\rangle$ oraz $|1\\rangle$ na $|0\\rangle$.\n",
    "Jest często nazywana kwantowym odpowiednikiem bramki NOT lub określana jako `bit-flip`."
   ]
  },
  {
   "cell_type": "code",
   "execution_count": null,
   "metadata": {
    "vscode": {
     "languageId": "plaintext"
    }
   },
   "outputs": [],
   "source": [
    "x_gate=QuantumCircuit(1) # Create a quantum circuit with 1 qubit\n",
    "x_gate.x(0)\n",
    "x_gate.draw(output='mpl')"
   ]
  },
  {
   "cell_type": "code",
   "execution_count": null,
   "metadata": {
    "vscode": {
     "languageId": "plaintext"
    }
   },
   "outputs": [],
   "source": [
    "backend = Aer.get_backend('statevector_simulator')\n",
    "state = execute(x_gate, backend).result().get_statevector()\n",
    "state.draw('latex')\n",
    "plot_bloch_multivector(state)"
   ]
  },
  {
   "cell_type": "markdown",
   "metadata": {},
   "source": [
    "### SX gate\n",
    "\n",
    "The SX gate equates to a rotation around the X-axis of the Bloch sphere by $\\pi/2$. It is called SX gate to indicate that it is the square-root of the X gate. Applying this gate twice produces the standard Pauli-X gate. The opposite of the SX is the SX dagger, which is a rotation by $\\pi/2$ in the opposite direction.\n",
    "\n",
    "$SX = \\frac{1}{2}\\begin{pmatrix}\n",
    "1+i & 1-i \\\\\n",
    "1-i & 1+i \\\\\n",
    "\\end{pmatrix}$"
   ]
  },
  {
   "cell_type": "code",
   "execution_count": null,
   "metadata": {
    "vscode": {
     "languageId": "plaintext"
    }
   },
   "outputs": [],
   "source": [
    "sx_gate = QuantumCircuit(1)\n",
    "sx_gate.sx(0)  \n",
    "sx_gate.draw(output='mpl')"
   ]
  },
  {
   "cell_type": "code",
   "execution_count": null,
   "metadata": {
    "vscode": {
     "languageId": "plaintext"
    }
   },
   "outputs": [],
   "source": [
    "backend = Aer.get_backend('statevector_simulator')\n",
    "result = execute(sx_gate, backend).result().get_statevector()\n",
    "plot_bloch_multivector(result)"
   ]
  },
  {
   "cell_type": "markdown",
   "metadata": {},
   "source": [
    "### RZ gate\n",
    "\n",
    "The Rz gate performs a rotation of $\\phi$ around the Z-axis direction (Where $\\phi$ is a real number). It has the matrix below:\n",
    "\n",
    "$RZ = \\begin{pmatrix}\n",
    "1 & 0 \\\\\n",
    "0 & e ^{i \\phi } \\\\\n",
    "\\end{pmatrix}$"
   ]
  },
  {
   "cell_type": "code",
   "execution_count": null,
   "metadata": {
    "vscode": {
     "languageId": "plaintext"
    }
   },
   "outputs": [],
   "source": [
    "import numpy as np\n",
    "pi = np.pi\n",
    "rz_gate = QuantumCircuit(1)\n",
    "rz_gate.rz(pi/2, 0)\n",
    "rz_gate.draw(output='mpl')"
   ]
  },
  {
   "cell_type": "code",
   "execution_count": null,
   "metadata": {
    "vscode": {
     "languageId": "plaintext"
    }
   },
   "outputs": [],
   "source": [
    "backend = Aer.get_backend('statevector_simulator')\n",
    "result = execute(rz_gate, backend).result().get_statevector()\n",
    "plot_bloch_multivector(result)"
   ]
  },
  {
   "cell_type": "code",
   "execution_count": null,
   "metadata": {
    "vscode": {
     "languageId": "plaintext"
    }
   },
   "outputs": [],
   "source": [
    "rz_gate.sx(0)\n",
    "rz_gate.rz(pi/2, 0)\n",
    "rz_gate.draw(output='mpl')"
   ]
  },
  {
   "cell_type": "code",
   "execution_count": null,
   "metadata": {
    "vscode": {
     "languageId": "plaintext"
    }
   },
   "outputs": [],
   "source": [
    "backend = Aer.get_backend('statevector_simulator')\n",
    "result = execute(rz_gate, backend).result().get_statevector()\n",
    "plot_bloch_multivector(result)"
   ]
  },
  {
   "cell_type": "markdown",
   "metadata": {},
   "source": [
    "### Hadamard gate\n",
    "A Hadamard gate represents a rotation of $\\pi$ about the axis that is in the middle of the X-axis and Z-axis.\n",
    "It maps the basis state $|0\\rangle$ to $\\frac{|0\\rangle + |1\\rangle}{\\sqrt{2}}$, which means that a measurement will have equal probabilities of being `1` or `0`, creating a 'superposition' of states. This state is also written as $|+\\rangle$. What the Hadamard does is to transform between the $|0\\rangle$ $|1\\rangle$ and the $|+\\rangle$ $|-\\rangle$ base. \n",
    "\n",
    "$H = \\frac{1}{\\sqrt{2}}\\begin{pmatrix}\n",
    "1 & 1 \\\\\n",
    "1 & -1 \\\\\n",
    "\\end{pmatrix}$"
   ]
  },
  {
   "cell_type": "code",
   "execution_count": null,
   "metadata": {
    "vscode": {
     "languageId": "plaintext"
    }
   },
   "outputs": [],
   "source": [
    "h_gate = QuantumCircuit(1)\n",
    "h_gate.h(0)\n",
    "h_gate.draw(output='mpl')"
   ]
  },
  {
   "cell_type": "code",
   "execution_count": null,
   "metadata": {
    "vscode": {
     "languageId": "plaintext"
    }
   },
   "outputs": [],
   "source": [
    "# Let's see the result\n",
    "backend = Aer.get_backend('statevector_simulator')\n",
    "result = execute(h_gate, backend).result().get_statevector()\n",
    "plot_bloch_multivector(result)"
   ]
  },
  {
   "cell_type": "markdown",
   "metadata": {},
   "source": [
    "### CX gate (CNOT gate)\n",
    "\n",
    "The controlled NOT (or CNOT or CX) gate acts on two qubits. It performs the NOT operation (equivalent to applying an X gate) on the second qubit only when the first qubit is $|1\\rangle$ and otherwise leaves it unchanged. \n",
    "\n",
    "Note: Qiskit numbers the bits in a string from right to left.\n",
    "\n",
    "$CX = \\begin{pmatrix}\n",
    "1 & 0 & 0 & 0  \\\\\n",
    "0 & 1 & 0 & 0 \\\\\n",
    "0 & 0 & 0 & 1 \\\\\n",
    "0 & 0 & 1 & 0 \\\\\n",
    "\\end{pmatrix}$"
   ]
  },
  {
   "cell_type": "code",
   "execution_count": null,
   "metadata": {
    "vscode": {
     "languageId": "plaintext"
    }
   },
   "outputs": [],
   "source": [
    "cx_gate = QuantumCircuit(2)\n",
    "cx_gate.cx(0,1)\n",
    "cx_gate.draw(output='mpl')"
   ]
  },
  {
   "cell_type": "markdown",
   "metadata": {},
   "source": [
    "### CCX gate (Toffoli gate)\n",
    "\n",
    "The CCX gate (controlled controlled X Gate) is also called a Toffoli gate. The CCX gate is a three-bit gate, with two controls and one target as their input and output. If the first two bits are in the state $|1\\rangle$, it applies a Pauli-X (or NOT) on the third bit. Otherwise, it does nothing. \n",
    "\n",
    "Note: Qiskit numbers the bits in a string from right to left.\n",
    "\n",
    "$CCX = \\begin{pmatrix}\n",
    "1 & 0 & 0 & 0 & 0 & 0 & 0 & 0 \\\\\n",
    "0 & 1 & 0 & 0 & 0 & 0 & 0 & 0 \\\\\n",
    "0 & 0 & 1 & 0 & 0 & 0 & 0 & 0 \\\\\n",
    "0 & 0 & 0 & 1 & 0 & 0 & 0 & 0 \\\\\n",
    "0 & 0 & 0 & 0 & 1 & 0 & 0 & 0 \\\\\n",
    "0 & 0 & 0 & 0 & 0 & 1 & 0 & 0 \\\\\n",
    "0 & 0 & 0 & 0 & 0 & 0 & 0 & 1 \\\\\n",
    "0 & 0 & 0 & 0 & 0 & 0 & 1 & 0 \\\\\n",
    "\\end{pmatrix}$"
   ]
  },
  {
   "cell_type": "code",
   "execution_count": null,
   "metadata": {
    "vscode": {
     "languageId": "plaintext"
    }
   },
   "outputs": [],
   "source": [
    "ccx_gate = QuantumCircuit(3)\n",
    "ccx_gate.ccx(0,1,2)\n",
    "ccx_gate.draw(output='mpl')"
   ]
  },
  {
   "cell_type": "markdown",
   "metadata": {},
   "source": [
    ">  Zadanie - zbuduj obwod kwantowy złożony z 10 kubitów, zastosuj bramkę H do kubitu 0 i 9 bramek CNOT gdzie kubitem kontrolnym jest kubit 0 a targety to kubity od 1 do 9 "
   ]
  },
  {
   "cell_type": "markdown",
   "metadata": {},
   "source": [
    "Przydatne dla obwodów"
   ]
  },
  {
   "cell_type": "code",
   "execution_count": null,
   "metadata": {},
   "outputs": [],
   "source": [
    "q = QuantumRegister(10)\n",
    "c = ClassicalRegister(10)\n",
    "ci = QuantumCircuit(q,c)\n",
    "ci.h(q)\n",
    "ci.draw()"
   ]
  },
  {
   "cell_type": "code",
   "execution_count": null,
   "metadata": {},
   "outputs": [],
   "source": [
    "# CCCH gate\n",
    "from qiskit.circuit.library.standard_gates import HGate\n",
    "\n",
    "CCCH = HGate().control(3)\n",
    "\n",
    "ci.append(CCCH, [0,1,3,2])\n",
    "ci.draw()"
   ]
  },
  {
   "cell_type": "markdown",
   "metadata": {},
   "source": [
    "## Create logical gates with the help of quantum gates\n",
    "\n",
    "### NOT gate\n",
    "\n",
    "The NOT gate flips the value of a bit and, as was mentioned before, an X gate can be considered a NOT gate. The truth table for a NOT gate looks like this:\n",
    "\n",
    "| Input | Output |\n",
    "| --- | --- | \n",
    "| 1 | 0 |\n",
    "| 0 | 1 |"
   ]
  },
  {
   "cell_type": "code",
   "execution_count": null,
   "metadata": {},
   "outputs": [],
   "source": [
    "not_gate=QuantumCircuit(1,1) # Create a quantum circuit with 1 qubit and 1 classical bit\n",
    "not_gate.x(0)\n",
    "not_gate.measure(0,0)\n",
    "not_gate.draw(output='mpl')"
   ]
  },
  {
   "cell_type": "markdown",
   "metadata": {},
   "source": [
    "### AND gate\n",
    "\n",
    "The output of an AND is true if and only if both inputs are true. The truth table for an AND Gate looks like this:\n",
    "\n",
    "| A (Input) | B (Input) | Output |\n",
    "| --- | --- | --- |\n",
    "| 0 | 0 | 0 | \n",
    "| 0 | 1 | 0 |\n",
    "| 1 | 0 | 0 |\n",
    "| 1 | 1 | 1 |\n",
    "\n",
    "With a Toffoli gate, we can get the result of an AND gate by interpreting the two control bits as the input bits and the target bit as the output bit."
   ]
  },
  {
   "cell_type": "code",
   "execution_count": null,
   "metadata": {},
   "outputs": [],
   "source": [
    "and_gate=QuantumCircuit(3,1) # Create a quantum circuit with 3 qubits and 1 classical bit\n",
    "and_gate.ccx(0,1,2)\n",
    "and_gate.measure(2,0)\n",
    "and_gate.draw(output='mpl')"
   ]
  },
  {
   "cell_type": "markdown",
   "metadata": {},
   "source": [
    "### OR gate\n",
    "\n",
    "An OR gate returns true if at least one of the input gates is true.\n",
    "The truth table for an OR Gate looks like this:\n",
    "\n",
    "| A (Input) | B (Input) | Output |\n",
    "| --- | --- | --- |\n",
    "| 0 | 0 | 0 | \n",
    "| 0 | 1 | 1 |\n",
    "| 1 | 0 | 1 |\n",
    "| 1 | 1 | 1 |"
   ]
  },
  {
   "cell_type": "code",
   "execution_count": null,
   "metadata": {},
   "outputs": [],
   "source": [
    "or_gate=QuantumCircuit(3,1) # Create a quantum circuit with 3 qubits and 1 classical bit\n",
    "or_gate.cx(1,2)\n",
    "or_gate.cx(0,2)\n",
    "or_gate.ccx(0,1,2)\n",
    "or_gate.measure(2,0)\n",
    "or_gate.draw(output='mpl')"
   ]
  }
 ],
 "metadata": {
  "language_info": {
   "name": "python"
  }
 },
 "nbformat": 4,
 "nbformat_minor": 2
}
